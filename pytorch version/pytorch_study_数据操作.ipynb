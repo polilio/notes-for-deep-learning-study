{
  "nbformat": 4,
  "nbformat_minor": 0,
  "metadata": {
    "colab": {
      "name": "pytorch_study_数据操作.ipynb",
      "provenance": [],
      "collapsed_sections": [],
      "authorship_tag": "ABX9TyPac/IkfysDQMHKYrBuTdQn",
      "include_colab_link": true
    },
    "kernelspec": {
      "name": "python3",
      "display_name": "Python 3"
    },
    "language_info": {
      "name": "python"
    }
  },
  "cells": [
    {
      "cell_type": "markdown",
      "metadata": {
        "id": "view-in-github",
        "colab_type": "text"
      },
      "source": [
        "<a href=\"https://colab.research.google.com/github/polilio/notes-for-deep-learning-study/blob/main/pytorch_study_%E6%95%B0%E6%8D%AE%E6%93%8D%E4%BD%9C.ipynb\" target=\"_parent\"><img src=\"https://colab.research.google.com/assets/colab-badge.svg\" alt=\"Open In Colab\"/></a>"
      ]
    },
    {
      "cell_type": "code",
      "metadata": {
        "id": "HoWN1mcHq4Ux"
      },
      "source": [
        "import torch"
      ],
      "execution_count": 1,
      "outputs": []
    },
    {
      "cell_type": "markdown",
      "metadata": {
        "id": "eArqVWy_uABC"
      },
      "source": [
        "张量(tensor)表示由一个数值组成的数组，这个数组可能有多个维度。具有一个轴的张量对应数学上的向量（vector）。具有两个轴的张量对应数学上的矩阵（matrix）。具有两个轴以上的张量没有特殊的数学名称。"
      ]
    },
    {
      "cell_type": "code",
      "metadata": {
        "id": "n37GC-JQtgB-"
      },
      "source": [
        "x = torch.arange(12) # 创建一个包含12个元素的一维张量: tensor([ 0,  1,  2,  3,  4,  5,  6,  7,  8,  9, 10, 11])"
      ],
      "execution_count": 2,
      "outputs": []
    },
    {
      "cell_type": "code",
      "metadata": {
        "colab": {
          "base_uri": "https://localhost:8080/"
        },
        "id": "d9eNFRUYvZSP",
        "outputId": "12ee83c3-a699-427f-bf92-3957e6b73956"
      },
      "source": [
        "x.shape # torch.Size([12])\n",
        "x.dtype # torch.int64\n",
        "x.numel() # 查看x中元素的总数"
      ],
      "execution_count": 3,
      "outputs": [
        {
          "output_type": "execute_result",
          "data": {
            "text/plain": [
              "12"
            ]
          },
          "metadata": {},
          "execution_count": 3
        }
      ]
    },
    {
      "cell_type": "code",
      "metadata": {
        "colab": {
          "base_uri": "https://localhost:8080/"
        },
        "id": "Ta3CMlVAwU3j",
        "outputId": "9c5e4cc8-fd2f-434c-8e6c-26708519b3f0"
      },
      "source": [
        "# 改变张量的形状 （并不会在原对象上修改，而是产生一个新对象）\n",
        "X = x.reshape(3, 4)\n",
        "X \n",
        "# tensor([[ 0,  1,  2,  3],\n",
        "#     [ 4,  5,  6,  7],\n",
        "#     [ 8,  9,  10, 11]])"
      ],
      "execution_count": 4,
      "outputs": [
        {
          "output_type": "execute_result",
          "data": {
            "text/plain": [
              "tensor([[ 0,  1,  2,  3],\n",
              "        [ 4,  5,  6,  7],\n",
              "        [ 8,  9, 10, 11]])"
            ]
          },
          "metadata": {},
          "execution_count": 4
        }
      ]
    },
    {
      "cell_type": "code",
      "metadata": {
        "colab": {
          "base_uri": "https://localhost:8080/"
        },
        "id": "CMBC9w15wjNy",
        "outputId": "feafdbd6-c903-4d35-921d-3f828bfc9d69"
      },
      "source": [
        "# 常用的创建tensor的方法\n",
        "torch.zeros((2,3,4))\n",
        "torch.ones((2,3,4))\n",
        "torch.randn(2,3,4) # 每个元素都从均值为0、标准差为1的标准高斯（正态）分布中随机采样\n",
        "torch.tensor([[1,2,4],[4,3,5]]) # 通过python列表构造tensor"
      ],
      "execution_count": 5,
      "outputs": [
        {
          "output_type": "execute_result",
          "data": {
            "text/plain": [
              "tensor([[1, 2, 4],\n",
              "        [4, 3, 5]])"
            ]
          },
          "metadata": {},
          "execution_count": 5
        }
      ]
    },
    {
      "cell_type": "code",
      "metadata": {
        "colab": {
          "base_uri": "https://localhost:8080/"
        },
        "id": "GXoo__bdzXWL",
        "outputId": "532aab86-f468-45fd-9a07-04696ebe51c3"
      },
      "source": [
        "# 常用运算\n",
        "x1 = torch.tensor([1,0.2,3,0.8])\n",
        "x2 = torch.tensor([0.1,0.2,2,0.5])\n",
        "x1+x2 # tensor([1.1000, 0.4000, 5.0000, 1.3000])\n",
        "x1-x2 # tensor([0.9000, 0.0000, 1.0000, 0.3000])\n",
        "x1*x2 # tensor([0.1000, 0.0400, 6.0000, 0.4000])\n",
        "x1/x2 # tensor([10.0000,  1.0000,  1.5000,  1.6000])\n",
        "x1**x2 # tensor([1.0000, 0.7248, 9.0000, 0.8944])\n",
        "torch.exp(x1) # tensor([ 2.7183,  1.2214, 20.0855,  2.2255])"
      ],
      "execution_count": 14,
      "outputs": [
        {
          "output_type": "execute_result",
          "data": {
            "text/plain": [
              "tensor([ 2.7183,  1.2214, 20.0855,  2.2255])"
            ]
          },
          "metadata": {},
          "execution_count": 14
        }
      ]
    },
    {
      "cell_type": "code",
      "metadata": {
        "colab": {
          "base_uri": "https://localhost:8080/"
        },
        "id": "suafzBOWzSxB",
        "outputId": "4afcf6b1-2d8f-4cc6-e7f5-e58d8f9db7c6"
      },
      "source": [
        "# 连接concatenate\n",
        "X = torch.arange(12,dtype=torch.float32).reshape(3,-1)\n",
        "Y = torch.tensor([[2.0, 1, 4, 3], [1, 2, 3, 4], [4, 3, 2, 1]])\n",
        "torch.cat((X,Y)) # 默认按照dim=0 concatenate\n",
        "torch.cat((X,Y),dim=1) # 指定dim=1 concatenate"
      ],
      "execution_count": 17,
      "outputs": [
        {
          "output_type": "execute_result",
          "data": {
            "text/plain": [
              "tensor([[ 0.,  1.,  2.,  3.,  2.,  1.,  4.,  3.],\n",
              "        [ 4.,  5.,  6.,  7.,  1.,  2.,  3.,  4.],\n",
              "        [ 8.,  9., 10., 11.,  4.,  3.,  2.,  1.]])"
            ]
          },
          "metadata": {},
          "execution_count": 17
        }
      ]
    },
    {
      "cell_type": "code",
      "metadata": {
        "colab": {
          "base_uri": "https://localhost:8080/"
        },
        "id": "ZqSRbEZwICT7",
        "outputId": "cd8c6406-5551-4722-aa63-c0deeb07a190"
      },
      "source": [
        "# bool 张量\n",
        "bool_tensor = (X == Y)\n",
        "bool_tensor"
      ],
      "execution_count": 18,
      "outputs": [
        {
          "output_type": "execute_result",
          "data": {
            "text/plain": [
              "tensor([[False,  True, False,  True],\n",
              "        [False, False, False, False],\n",
              "        [False, False, False, False]])"
            ]
          },
          "metadata": {},
          "execution_count": 18
        }
      ]
    },
    {
      "cell_type": "code",
      "metadata": {
        "colab": {
          "base_uri": "https://localhost:8080/"
        },
        "id": "5qkKESN4IuX8",
        "outputId": "cfbb6ac1-29d5-4522-d267-2bb2cb3dc7ad"
      },
      "source": [
        "# summation of all the elements in the tensor\n",
        "X.sum() # tensor(66.) a new tensor with exactly one element"
      ],
      "execution_count": 19,
      "outputs": [
        {
          "output_type": "execute_result",
          "data": {
            "text/plain": [
              "tensor(66.)"
            ]
          },
          "metadata": {},
          "execution_count": 19
        }
      ]
    },
    {
      "cell_type": "code",
      "metadata": {
        "colab": {
          "base_uri": "https://localhost:8080/"
        },
        "id": "iMAiQ4oPJh_g",
        "outputId": "b0e80445-4aa9-4142-8e72-3e3648b46154"
      },
      "source": [
        "# broadcast\n",
        "a = torch.arange(3).reshape(3,1)\n",
        "b = torch.arange(2).reshape(1,2)\n",
        "a+b"
      ],
      "execution_count": 25,
      "outputs": [
        {
          "output_type": "execute_result",
          "data": {
            "text/plain": [
              "tensor([[0, 1],\n",
              "        [1, 2],\n",
              "        [2, 3]])"
            ]
          },
          "metadata": {},
          "execution_count": 25
        }
      ]
    },
    {
      "cell_type": "code",
      "metadata": {
        "colab": {
          "base_uri": "https://localhost:8080/"
        },
        "id": "dZruj5rgKpx6",
        "outputId": "d207aea4-c6d4-4e2b-e93a-4d4ac2a0c8f3"
      },
      "source": [
        "# indexing and slicing\n",
        "X[-1] # tensor([ 8.,  9., 10., 11.])\n",
        "X[1:3] # tensor([[ 4.,  5.,  6.,  7.],\n",
        "    #     [ 8.,  9., 10.,  11.]])\n"
      ],
      "execution_count": 27,
      "outputs": [
        {
          "output_type": "execute_result",
          "data": {
            "text/plain": [
              "tensor([[ 4.,  5.,  6.,  7.],\n",
              "        [ 8.,  9., 10., 11.]])"
            ]
          },
          "metadata": {},
          "execution_count": 27
        }
      ]
    },
    {
      "cell_type": "code",
      "metadata": {
        "colab": {
          "base_uri": "https://localhost:8080/"
        },
        "id": "a5e4QUGINUdC",
        "outputId": "05ee98b3-148a-4f5c-c2a4-60f4feeb65fe"
      },
      "source": [
        "# 减少内存开销的方式！\n",
        "# 浪费内存的写法：\n",
        "before = id(Y)\n",
        "Y = Y + X\n",
        "id(Y) == before # False\n",
        "\n",
        "# 节省内存的写法\n",
        "before = id(Y)\n",
        "Y[:] = Y + X\n",
        "id(Y) == before # True"
      ],
      "execution_count": 29,
      "outputs": [
        {
          "output_type": "execute_result",
          "data": {
            "text/plain": [
              "True"
            ]
          },
          "metadata": {},
          "execution_count": 29
        }
      ]
    },
    {
      "cell_type": "code",
      "metadata": {
        "colab": {
          "base_uri": "https://localhost:8080/"
        },
        "id": "2QOEGu-QRwFB",
        "outputId": "cf220bc7-d3e9-42cf-9bc8-558297210ffb"
      },
      "source": [
        "# 转换为其他 Python 对象\n",
        "A = X.numpy()\n",
        "B = torch.tensor(A)\n",
        "print(type(A),\",\",type(B))"
      ],
      "execution_count": 34,
      "outputs": [
        {
          "output_type": "stream",
          "name": "stdout",
          "text": [
            "<class 'numpy.ndarray'> , <class 'torch.Tensor'>\n"
          ]
        }
      ]
    },
    {
      "cell_type": "code",
      "metadata": {
        "colab": {
          "base_uri": "https://localhost:8080/"
        },
        "id": "3STkuGoQTTeT",
        "outputId": "aa2ea227-8d73-4bce-cb80-db2d6e797717"
      },
      "source": [
        "# 要将大小为1的张量转换为Python标量\n",
        "a = torch.tensor([3.5])\n",
        "int(a) # 3\n",
        "float(a) # 3.5\n",
        "a.item() # 3.5"
      ],
      "execution_count": 38,
      "outputs": [
        {
          "output_type": "execute_result",
          "data": {
            "text/plain": [
              "3.5"
            ]
          },
          "metadata": {},
          "execution_count": 38
        }
      ]
    }
  ]
}

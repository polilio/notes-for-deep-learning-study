{
  "nbformat": 4,
  "nbformat_minor": 0,
  "metadata": {
    "colab": {
      "name": "tensorflow_study——数据操作.ipynb",
      "provenance": [],
      "collapsed_sections": [],
      "authorship_tag": "ABX9TyOGvqIBgjE7H+E8lJGdG7l5",
      "include_colab_link": true
    },
    "kernelspec": {
      "name": "python3",
      "display_name": "Python 3"
    },
    "language_info": {
      "name": "python"
    }
  },
  "cells": [
    {
      "cell_type": "markdown",
      "metadata": {
        "id": "view-in-github",
        "colab_type": "text"
      },
      "source": [
        "<a href=\"https://colab.research.google.com/github/polilio/notes-for-deep-learning-study/blob/main/tensorflow%20version/tensorflow_study%E2%80%94%E2%80%94%E6%95%B0%E6%8D%AE%E6%93%8D%E4%BD%9C.ipynb\" target=\"_parent\"><img src=\"https://colab.research.google.com/assets/colab-badge.svg\" alt=\"Open In Colab\"/></a>"
      ]
    },
    {
      "cell_type": "code",
      "metadata": {
        "id": "OKsKO8pzs2j4"
      },
      "source": [
        "import tensorflow as tf"
      ],
      "execution_count": 1,
      "outputs": []
    },
    {
      "cell_type": "code",
      "metadata": {
        "id": "rlWHSn_ltmOs"
      },
      "source": [
        "x = tf.range(12) # <tf.Tensor: shape=(12,), dtype=int32, numpy=array([ 0,  1,  2,  3,  4,  5,  6,  7,  8,  9, 10, 11], dtype=int32)>"
      ],
      "execution_count": 2,
      "outputs": []
    },
    {
      "cell_type": "code",
      "metadata": {
        "colab": {
          "base_uri": "https://localhost:8080/"
        },
        "id": "ijo5KV28u1CL",
        "outputId": "cb5e1f4d-f24b-40d2-fdd6-847fb95505e2"
      },
      "source": [
        "x.shape # TensorShape([12])\n",
        "x.dtype # tf.int32\n",
        "tf.size(x) # <tf.Tensor: shape=(), dtype=int32, numpy=12> 查看元素总数"
      ],
      "execution_count": 3,
      "outputs": [
        {
          "output_type": "execute_result",
          "data": {
            "text/plain": [
              "<tf.Tensor: shape=(), dtype=int32, numpy=12>"
            ]
          },
          "metadata": {},
          "execution_count": 3
        }
      ]
    },
    {
      "cell_type": "code",
      "metadata": {
        "colab": {
          "base_uri": "https://localhost:8080/"
        },
        "id": "vqRNkO_RwUGi",
        "outputId": "06000e4b-ad5f-4876-fc38-6b69f8413608"
      },
      "source": [
        "# 改变张量的形状 （并不会在原对象上修改，而是产生一个新对象）\n",
        "X = tf.reshape(x,(3,4))\n",
        "X"
      ],
      "execution_count": 4,
      "outputs": [
        {
          "output_type": "execute_result",
          "data": {
            "text/plain": [
              "<tf.Tensor: shape=(3, 4), dtype=int32, numpy=\n",
              "array([[ 0,  1,  2,  3],\n",
              "       [ 4,  5,  6,  7],\n",
              "       [ 8,  9, 10, 11]], dtype=int32)>"
            ]
          },
          "metadata": {},
          "execution_count": 4
        }
      ]
    },
    {
      "cell_type": "code",
      "metadata": {
        "colab": {
          "base_uri": "https://localhost:8080/"
        },
        "id": "itdIDbv2xU7O",
        "outputId": "dd370893-a787-45e6-b245-2a7969ef2db5"
      },
      "source": [
        "# 常用的创建tensor的方法\n",
        "tf.zeros((2,3,4))\n",
        "tf.ones((2,3,4))\n",
        "tf.random.normal((2,3,4)) # 每个元素都从均值为0、标准差为1的标准高斯（正态）分布中随机采样\n",
        "tf.constant([[1,2,4],[4,3,5]]) # 通过python列表构造tensor"
      ],
      "execution_count": 5,
      "outputs": [
        {
          "output_type": "execute_result",
          "data": {
            "text/plain": [
              "<tf.Tensor: shape=(2, 3), dtype=int32, numpy=\n",
              "array([[1, 2, 4],\n",
              "       [4, 3, 5]], dtype=int32)>"
            ]
          },
          "metadata": {},
          "execution_count": 5
        }
      ]
    },
    {
      "cell_type": "code",
      "metadata": {
        "colab": {
          "base_uri": "https://localhost:8080/"
        },
        "id": "SzogESTZzWea",
        "outputId": "b84122c2-2e05-4db1-b23c-7e0b2c3fee02"
      },
      "source": [
        "# 常用运算\n",
        "x1 = tf.constant([4,3,5])\n",
        "x2 = tf.constant([1,2,4])\n",
        "x1+x2 # <tf.Tensor: shape=(3,), dtype=int32, numpy=array([5, 5, 9], dtype=int32)>\n",
        "x1-x2 # <tf.Tensor: shape=(3,), dtype=int32, numpy=array([3, 1, 1], dtype=int32)>\n",
        "x1*x2 # <tf.Tensor: shape=(3,), dtype=int32, numpy=array([ 4,  6, 20], dtype=int32)>\n",
        "x1/x2 # <tf.Tensor: shape=(3,), dtype=float64, numpy=array([4.  , 1.5 , 1.25])>\n",
        "x1**x2 # <tf.Tensor: shape=(3,), dtype=int32, numpy=array([  4,   9, 625], dtype=int32)>\n",
        "x3 = tf.constant([0.1,0.2,1])\n",
        "tf.exp(x3) # 这个操作只支持float数"
      ],
      "execution_count": 12,
      "outputs": [
        {
          "output_type": "execute_result",
          "data": {
            "text/plain": [
              "<tf.Tensor: shape=(3,), dtype=float32, numpy=array([1.105171 , 1.2214028, 2.7182817], dtype=float32)>"
            ]
          },
          "metadata": {},
          "execution_count": 12
        }
      ]
    },
    {
      "cell_type": "code",
      "metadata": {
        "colab": {
          "base_uri": "https://localhost:8080/"
        },
        "id": "9k1-chvuz4N5",
        "outputId": "21607b85-15f1-4d19-b6b1-e81a581f9cc7"
      },
      "source": [
        "# 连接concatenate\n",
        "X = tf.reshape(tf.range(12,dtype=tf.float32),(3,-1))\n",
        "Y = tf.constant([[2.0, 1, 4, 3], [1, 2, 3, 4], [4, 3, 2, 1]])\n",
        "tf.concat((X,Y),axis=0) # 默认按照dim=0 concatenate\n",
        "tf.concat((X,Y),axis=1) # 指定dim=1 concatenate"
      ],
      "execution_count": 16,
      "outputs": [
        {
          "output_type": "execute_result",
          "data": {
            "text/plain": [
              "<tf.Tensor: shape=(3, 8), dtype=float32, numpy=\n",
              "array([[ 0.,  1.,  2.,  3.,  2.,  1.,  4.,  3.],\n",
              "       [ 4.,  5.,  6.,  7.,  1.,  2.,  3.,  4.],\n",
              "       [ 8.,  9., 10., 11.,  4.,  3.,  2.,  1.]], dtype=float32)>"
            ]
          },
          "metadata": {},
          "execution_count": 16
        }
      ]
    },
    {
      "cell_type": "code",
      "metadata": {
        "colab": {
          "base_uri": "https://localhost:8080/"
        },
        "id": "q9WoHFp5ICtD",
        "outputId": "c4bab6c5-f073-4f23-af83-8ab6a537f1c4"
      },
      "source": [
        "# bool 张量\n",
        "bool_tensor = (X == Y)\n",
        "bool_tensor"
      ],
      "execution_count": 18,
      "outputs": [
        {
          "output_type": "execute_result",
          "data": {
            "text/plain": [
              "<tf.Tensor: shape=(3, 4), dtype=bool, numpy=\n",
              "array([[False,  True, False,  True],\n",
              "       [False, False, False, False],\n",
              "       [False, False, False, False]])>"
            ]
          },
          "metadata": {},
          "execution_count": 18
        }
      ]
    },
    {
      "cell_type": "code",
      "metadata": {
        "colab": {
          "base_uri": "https://localhost:8080/"
        },
        "id": "ZNdQ1mUMIuyn",
        "outputId": "fecdc91e-e489-49c2-ed44-955677aebc83"
      },
      "source": [
        "# summation of all the elements in the tensor\n",
        "tf.reduce_sum(X) # <tf.Tensor: shape=(), dtype=float32, numpy=66.0>"
      ],
      "execution_count": 21,
      "outputs": [
        {
          "output_type": "execute_result",
          "data": {
            "text/plain": [
              "<tf.Tensor: shape=(), dtype=float32, numpy=66.0>"
            ]
          },
          "metadata": {},
          "execution_count": 21
        }
      ]
    },
    {
      "cell_type": "code",
      "metadata": {
        "colab": {
          "base_uri": "https://localhost:8080/"
        },
        "id": "8MNdwEEzKQiU",
        "outputId": "e56588a9-2392-49a2-b5d2-e175a5d05c13"
      },
      "source": [
        "a = tf.reshape(tf.range(3),(3,1))\n",
        "b = tf.reshape(tf.range(2),(1,2))\n",
        "a+b"
      ],
      "execution_count": 24,
      "outputs": [
        {
          "output_type": "execute_result",
          "data": {
            "text/plain": [
              "<tf.Tensor: shape=(3, 2), dtype=int32, numpy=\n",
              "array([[0, 1],\n",
              "       [1, 2],\n",
              "       [2, 3]], dtype=int32)>"
            ]
          },
          "metadata": {},
          "execution_count": 24
        }
      ]
    },
    {
      "cell_type": "code",
      "metadata": {
        "colab": {
          "base_uri": "https://localhost:8080/"
        },
        "id": "4Wu7cI1NLJXy",
        "outputId": "a5b6edae-b1e4-4fad-b7d6-41cce396a60f"
      },
      "source": [
        "# indexing and slicing\n",
        "X[-1] # <tf.Tensor: shape=(4,), dtype=float32, numpy=array([ 8.,  9., 10., 11.], dtype=float32)>\n",
        "X[1:3] # <tf.Tensor: shape=(2, 4), dtype=float32, numpy=\n",
        "    # array([[ 4.,  5.,  6.,  7.],\n",
        "    #     [ 8.,  9., 10., 11.]], dtype=float32)>\n"
      ],
      "execution_count": 26,
      "outputs": [
        {
          "output_type": "execute_result",
          "data": {
            "text/plain": [
              "<tf.Tensor: shape=(2, 4), dtype=float32, numpy=\n",
              "array([[ 4.,  5.,  6.,  7.],\n",
              "       [ 8.,  9., 10., 11.]], dtype=float32)>"
            ]
          },
          "metadata": {},
          "execution_count": 26
        }
      ]
    },
    {
      "cell_type": "code",
      "metadata": {
        "colab": {
          "base_uri": "https://localhost:8080/"
        },
        "id": "fNDEQ4-CPVF_",
        "outputId": "5e9b5a0b-2f63-408e-f19d-1c15e8c98001"
      },
      "source": [
        "# tensorflow 不支持切片或者索引直接用=赋值！！！\n",
        "# TensorFlow中的Tensors是不可变的，也不能被赋值。\n",
        "# TensorFlow中的Variables是支持赋值的可变容器。请记住，TensorFlow中的梯度不会通过Variable反向传播。\n",
        "X_var = tf.Variable(X)\n",
        "X_var[1, 2].assign(9)\n",
        "X_var\n",
        "# <tf.Variable 'Variable:0' shape=(3, 4) dtype=float32, numpy=\n",
        "# array([[ 0.,  1.,  2.,  3.],\n",
        "#    [ 4.,  5.,  9.,  7.],\n",
        "#    [ 8.,  9., 10., 11.]], dtype=float32)>"
      ],
      "execution_count": 29,
      "outputs": [
        {
          "output_type": "execute_result",
          "data": {
            "text/plain": [
              "<tf.Variable 'Variable:0' shape=(3, 4) dtype=float32, numpy=\n",
              "array([[ 0.,  1.,  2.,  3.],\n",
              "       [ 4.,  5.,  9.,  7.],\n",
              "       [ 8.,  9., 10., 11.]], dtype=float32)>"
            ]
          },
          "metadata": {},
          "execution_count": 29
        }
      ]
    },
    {
      "cell_type": "markdown",
      "metadata": {
        "id": "iEtwU3yIRkGh"
      },
      "source": [
        "由于TensorFlow的Tensors是不可变的，而且梯度不会通过Variable流动，因此TensorFlow没有提供一种明确的方式来原地运行单个操作。\n",
        "\n",
        "但是，TensorFlow提供了tf.function修饰符，将计算封装在TensorFlow图中，该图在运行前经过编译和优化。这允许TensorFlow删除未使用的值，并复用先前分配的且不再需要的值。这样可以最大限度地减少TensorFlow计算的内存开销。"
      ]
    },
    {
      "cell_type": "code",
      "metadata": {
        "colab": {
          "base_uri": "https://localhost:8080/"
        },
        "id": "1rYtHXehNT0m",
        "outputId": "6dd84178-3932-4f0c-8409-3d081d51bb02"
      },
      "source": [
        "# 减少内存开销的方式！\n",
        "# 浪费内存的写法：\n",
        "before = id(Y)\n",
        "Y = Y + X\n",
        "id(Y) == before # False\n",
        "\n",
        "# 节省内存的写法\n",
        "@tf.function\n",
        "def computation(X, Y):\n",
        "    Z = tf.zeros_like(Y)  # 这个未使用的值将被删除\n",
        "    A = X + Y  # 当不再需要时，分配将被复用\n",
        "    B = A + Y\n",
        "    C = B + Y\n",
        "    return C + Y\n",
        "\n",
        "computation(X, Y)"
      ],
      "execution_count": 30,
      "outputs": [
        {
          "output_type": "execute_result",
          "data": {
            "text/plain": [
              "<tf.Tensor: shape=(3, 4), dtype=float32, numpy=\n",
              "array([[  8.,  17.,  42.,  51.],\n",
              "       [ 56.,  73.,  90., 107.],\n",
              "       [120., 129., 138., 147.]], dtype=float32)>"
            ]
          },
          "metadata": {},
          "execution_count": 30
        }
      ]
    },
    {
      "cell_type": "code",
      "metadata": {
        "colab": {
          "base_uri": "https://localhost:8080/"
        },
        "id": "XJjYj3xURwsO",
        "outputId": "6ad0d0d3-22e2-45b9-99b2-eb9529334004"
      },
      "source": [
        "# 转换为其他 Python 对象\n",
        "A = X.numpy()\n",
        "B = tf.constant(A)\n",
        "print(type(A),\",\",type(B))"
      ],
      "execution_count": 33,
      "outputs": [
        {
          "output_type": "stream",
          "name": "stdout",
          "text": [
            "<class 'numpy.ndarray'> , <class 'tensorflow.python.framework.ops.EagerTensor'>\n"
          ]
        }
      ]
    },
    {
      "cell_type": "code",
      "metadata": {
        "colab": {
          "base_uri": "https://localhost:8080/"
        },
        "id": "uCP649pzToHh",
        "outputId": "ae788dcd-1810-4763-bdc8-7eb099e86d68"
      },
      "source": [
        "# 要将大小为1的张量转换为Python标量\n",
        "a = tf.constant([3.5]).numpy()\n",
        "int(a) # 3\n",
        "float(a) # 3.5\n",
        "a.item() # 3.5"
      ],
      "execution_count": 35,
      "outputs": [
        {
          "output_type": "execute_result",
          "data": {
            "text/plain": [
              "3.5"
            ]
          },
          "metadata": {},
          "execution_count": 35
        }
      ]
    }
  ]
}